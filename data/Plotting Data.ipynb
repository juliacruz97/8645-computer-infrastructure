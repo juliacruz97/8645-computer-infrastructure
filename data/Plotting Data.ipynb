{
 "cells": [
  {
   "cell_type": "code",
   "execution_count": null,
   "id": "4e0e39a0",
   "metadata": {},
   "outputs": [],
   "source": [
    "import os "
   ]
  },
  {
   "cell_type": "code",
   "execution_count": null,
   "id": "38112582",
   "metadata": {},
   "outputs": [
    {
     "name": "stdout",
     "output_type": "stream",
     "text": [
      "['20251004-003628.csv', '20251004-003714.csv', 'Plotting Data.ipynb']\n"
     ]
    }
   ],
   "source": [
    "import os\n",
    "\n",
    "# Step 1: path to the data folder\n",
    "data_folder = r\"C:\\Users\\Julia Cruz\\8645-computer-infrastructure\\data\"\n",
    "\n",
    "# Step 2:  list all files in the folder\n",
    "\n",
    "file = os.listdir(r\"C:\\Users\\Julia Cruz\\8645-computer-infrastructure\\data\")\n",
    "print(file)"
   ]
  },
  {
   "cell_type": "code",
   "execution_count": 7,
   "id": "2e333b2b",
   "metadata": {},
   "outputs": [
    {
     "data": {
      "text/plain": [
       "1759534634.0161314"
      ]
     },
     "execution_count": 7,
     "metadata": {},
     "output_type": "execute_result"
    }
   ],
   "source": [
    "os.path.getmtime(r\"C:\\Users\\Julia Cruz\\8645-computer-infrastructure\\data\")"
   ]
  },
  {
   "cell_type": "code",
   "execution_count": null,
   "id": "7ec0f672",
   "metadata": {},
   "outputs": [],
   "source": []
  }
 ],
 "metadata": {
  "kernelspec": {
   "display_name": "Python 3",
   "language": "python",
   "name": "python3"
  },
  "language_info": {
   "codemirror_mode": {
    "name": "ipython",
    "version": 3
   },
   "file_extension": ".py",
   "mimetype": "text/x-python",
   "name": "python",
   "nbconvert_exporter": "python",
   "pygments_lexer": "ipython3",
   "version": "3.13.7"
  }
 },
 "nbformat": 4,
 "nbformat_minor": 5
}
