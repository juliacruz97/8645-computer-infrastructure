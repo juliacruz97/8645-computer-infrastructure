{
 "cells": [
  {
   "cell_type": "code",
   "execution_count": 19,
   "id": "4f3713ba",
   "metadata": {},
   "outputs": [
    {
     "name": "stderr",
     "output_type": "stream",
     "text": [
      "[*********************100%***********************]  5 of 5 completed"
     ]
    },
    {
     "name": "stdout",
     "output_type": "stream",
     "text": [
      "Data saved to data/20251004-003714.csv\n",
      "Price                            Open        High         Low       Close  \\\n",
      "Datetime                                                                    \n",
      "2025-09-29 13:30:00+00:00  254.000000  254.500000  253.009995  254.219894   \n",
      "2025-09-29 14:30:00+00:00  254.205002  254.240005  253.309998  253.470001   \n",
      "2025-09-29 15:30:00+00:00  253.466507  254.070007  253.119995  253.660004   \n",
      "2025-09-29 16:30:00+00:00  253.669998  253.779907  253.210007  253.399994   \n",
      "2025-09-29 17:30:00+00:00  253.389999  254.615005  253.130005  254.570007   \n",
      "\n",
      "Price                       Volume  \n",
      "Datetime                            \n",
      "2025-09-29 13:30:00+00:00  6306062  \n",
      "2025-09-29 14:30:00+00:00  2834864  \n",
      "2025-09-29 15:30:00+00:00  2275242  \n",
      "2025-09-29 16:30:00+00:00  1744854  \n",
      "2025-09-29 17:30:00+00:00  2297052  \n"
     ]
    },
    {
     "name": "stderr",
     "output_type": "stream",
     "text": [
      "\n"
     ]
    }
   ],
   "source": [
    "\"\"\"\n",
    "Using the yfinance Python package, write a function called get_data() \n",
    "that downloads all hourly data for the previous five days for the five FAANG stocks:\n",
    "\"\"\"\n",
    "\n",
    "import yfinance as yf \n",
    "import pandas as pd\n",
    "import os\n",
    "from datetime import datetime\n",
    "\n",
    "\n",
    "def get_data():\n",
    "    \"\"\"\n",
    "    Download hourly stock data for the past 5 days \n",
    "    for the five FAANG companies: Meta (Facebook), Apple, Amazon,\n",
    "    Netflix, and Alphabet (Google), and save it to a CSV file.\n",
    "\n",
    "    Returns:\n",
    "        pd.DataFrame: Hourly stock data for all FAANG companies.\n",
    "    \"\"\"\n",
    "    # FAANG tickers\n",
    "    tickers = [\"META\", \"AAPL\", \"AMZN\", \"NFLX\", \"GOOGL\"]\n",
    "\n",
    "    # Download 5 days of data at 1-hour intervals\n",
    "    data = yf.download(\n",
    "        tickers=tickers,\n",
    "        period=\"5d\",\n",
    "        interval=\"1h\",\n",
    "        group_by=\"ticker\",   # Organize data by company\n",
    "        auto_adjust=True,    # Adjust prices for dividends/splits\n",
    "        threads=True         # Download in parallel\n",
    "    )\n",
    "\n",
    "    # Create 'data' folder if it doesn't exist\n",
    "    if not os.path.exists(\"data\"):\n",
    "        os.makedirs(\"data\")\n",
    "\n",
    "    # Create filename with current date and time\n",
    "    timestamp = datetime.now().strftime(\"%Y%m%d-%H%M%S\")\n",
    "    filename = f\"data/{timestamp}.csv\"\n",
    "\n",
    "    # Save the data to CSV\n",
    "    data.to_csv(filename)\n",
    "    print(f\"Data saved to {filename}\")\n",
    "\n",
    "    return data\n",
    "\n",
    "\n",
    "# Run the function and store the data\n",
    "df = get_data()\n",
    "\n",
    "# Display the first rows of Apple data\n",
    "print(df[\"AAPL\"].head())\n",
    "\n",
    "\n",
    "\n",
    "\n"
   ]
  },
  {
   "cell_type": "code",
   "execution_count": null,
   "id": "3bc94776",
   "metadata": {},
   "outputs": [],
   "source": [
    "\n"
   ]
  }
 ],
 "metadata": {
  "kernelspec": {
   "display_name": "Python 3",
   "language": "python",
   "name": "python3"
  },
  "language_info": {
   "codemirror_mode": {
    "name": "ipython",
    "version": 3
   },
   "file_extension": ".py",
   "mimetype": "text/x-python",
   "name": "python",
   "nbconvert_exporter": "python",
   "pygments_lexer": "ipython3",
   "version": "3.13.7"
  }
 },
 "nbformat": 4,
 "nbformat_minor": 5
}
