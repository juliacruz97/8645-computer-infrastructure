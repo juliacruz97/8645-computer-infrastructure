{
 "cells": [
  {
   "cell_type": "markdown",
   "id": "d8c02d7c",
   "metadata": {},
   "source": [
    "## yFinance\n",
    "Historical price data and company information for stocks.\n",
    "https://github.com/ranaroussi/yfinance\n"
   ]
  },
  {
   "cell_type": "code",
   "execution_count": 21,
   "id": "0e3fb070",
   "metadata": {},
   "outputs": [],
   "source": [
    "#Dates and times.\n",
    "import datetime as dt\n",
    "\n",
    "# Data frames.\n",
    "import pandas as pd\n",
    "\n",
    "#yaFinance for stock data.\n",
    "import yfinance as yf\n",
    "\n"
   ]
  },
  {
   "cell_type": "markdown",
   "id": "1264d969",
   "metadata": {},
   "source": [
    "###Testing the datetime library\n",
    "\n",
    "https://docs.python.org/3/library/datetime.html?utm_source=chatgpt.com"
   ]
  },
  {
   "cell_type": "code",
   "execution_count": 32,
   "id": "61494716",
   "metadata": {},
   "outputs": [
    {
     "name": "stdout",
     "output_type": "stream",
     "text": [
      "2024-10-24\n"
     ]
    }
   ],
   "source": [
    "data = dt.date (2024, 10, 24)\n",
    "print(data)\n",
    "\n"
   ]
  },
  {
   "cell_type": "code",
   "execution_count": 34,
   "id": "51919f76",
   "metadata": {},
   "outputs": [
    {
     "name": "stdout",
     "output_type": "stream",
     "text": [
      "Thu Oct 24 00:00:00 2024\n"
     ]
    }
   ],
   "source": [
    "print (data.ctime())"
   ]
  },
  {
   "cell_type": "code",
   "execution_count": 35,
   "id": "2b1b7e79",
   "metadata": {},
   "outputs": [
    {
     "name": "stdout",
     "output_type": "stream",
     "text": [
      "24 10 2024\n"
     ]
    }
   ],
   "source": [
    "day = data.day\n",
    "month = data.month\n",
    "year = data.year\n",
    "print (day, month, year)"
   ]
  },
  {
   "cell_type": "code",
   "execution_count": 36,
   "id": "0262e2d7",
   "metadata": {},
   "outputs": [
    {
     "name": "stdout",
     "output_type": "stream",
     "text": [
      "2024-07-24\n",
      "2024-10-24\n"
     ]
    }
   ],
   "source": [
    "nova_data = data.replace(month =7)\n",
    "print (nova_data)\n",
    "print (data)"
   ]
  },
  {
   "cell_type": "code",
   "execution_count": 37,
   "id": "23e0484e",
   "metadata": {},
   "outputs": [
    {
     "name": "stdout",
     "output_type": "stream",
     "text": [
      "2025-11-01\n"
     ]
    }
   ],
   "source": [
    "today = datetime.date.today()\n",
    "print (today)"
   ]
  },
  {
   "cell_type": "code",
   "execution_count": 38,
   "id": "ad115734",
   "metadata": {},
   "outputs": [
    {
     "name": "stdout",
     "output_type": "stream",
     "text": [
      "373 days, 0:00:00\n"
     ]
    }
   ],
   "source": [
    "delta= today - data\n",
    "print(delta)"
   ]
  }
 ],
 "metadata": {
  "kernelspec": {
   "display_name": "Python 3",
   "language": "python",
   "name": "python3"
  },
  "language_info": {
   "codemirror_mode": {
    "name": "ipython",
    "version": 3
   },
   "file_extension": ".py",
   "mimetype": "text/x-python",
   "name": "python",
   "nbconvert_exporter": "python",
   "pygments_lexer": "ipython3",
   "version": "3.13.7"
  }
 },
 "nbformat": 4,
 "nbformat_minor": 5
}
